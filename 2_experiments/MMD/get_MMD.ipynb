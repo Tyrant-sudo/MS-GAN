{
 "cells": [
  {
   "cell_type": "code",
   "execution_count": 1,
   "metadata": {},
   "outputs": [
    {
     "name": "stdout",
     "output_type": "stream",
     "text": [
      "Jupyter environment detected. Enabling Open3D WebVisualizer.\n",
      "[Open3D INFO] WebRTC GUI backend enabled.\n",
      "[Open3D INFO] WebRTCWindowSystem: HTTP handshake server disabled.\n"
     ]
    }
   ],
   "source": [
    "import torch\n",
    "import numpy as np\n",
    "import sys\n",
    "sys.path.append('F:\\\\graduate_student\\\\T2_GANpropeller\\\\test5\\\\2_experiments\\\\FFD_PCA')\n",
    "import draw\n",
    "def guassian_kernel(source, target, kernel_mul=2.0, kernel_num=5, fix_sigma=None):\n",
    "    '''\n",
    "    将源域数据和目标域数据转化为核矩阵，即上文中的K\n",
    "    Params: \n",
    "\t    source: 源域数据（n * len(x))\n",
    "\t    target: 目标域数据（m * len(y))\n",
    "\t    kernel_mul: \n",
    "\t    kernel_num: 取不同高斯核的数量\n",
    "\t    fix_sigma: 不同高斯核的sigma值\n",
    "\tReturn:\n",
    "\t\tsum(kernel_val): 多个核矩阵之和\n",
    "    '''\n",
    "    n_samples = int(source.size()[0])+int(target.size()[0])# 求矩阵的行数，一般source和target的尺度是一样的，这样便于计算\n",
    "    total = torch.cat([source, target], dim=0)#将source,target按列方向合并\n",
    "    #将total复制（n+m）份\n",
    "    total0 = total.unsqueeze(0).expand(int(total.size(0)), int(total.size(0)), int(total.size(1)))\n",
    "    #将total的每一行都复制成（n+m）行，即每个数据都扩展成（n+m）份\n",
    "    total1 = total.unsqueeze(1).expand(int(total.size(0)), int(total.size(0)), int(total.size(1)))\n",
    "    #求任意两个数据之间的和，得到的矩阵中坐标（i,j）代表total中第i行数据和第j行数据之间的l2 distance(i==j时为0）\n",
    "    L2_distance = ((total0-total1)**2).sum(2) \n",
    "    #调整高斯核函数的sigma值\n",
    "    if fix_sigma:\n",
    "        bandwidth = fix_sigma\n",
    "    else:\n",
    "        bandwidth = torch.sum(L2_distance.data) / (n_samples**2-n_samples)\n",
    "    #以fix_sigma为中值，以kernel_mul为倍数取kernel_num个bandwidth值（比如fix_sigma为1时，得到[0.25,0.5,1,2,4]\n",
    "    bandwidth /= kernel_mul ** (kernel_num // 2)\n",
    "    bandwidth_list = [bandwidth * (kernel_mul**i) for i in range(kernel_num)]\n",
    "    #高斯核函数的数学表达式\n",
    "    kernel_val = [torch.exp(-L2_distance / bandwidth_temp) for bandwidth_temp in bandwidth_list]\n",
    "    #得到最终的核矩阵\n",
    "    return sum(kernel_val)#/len(kernel_val)\n",
    " \n",
    "def mmd_rbf(source, target, kernel_mul=2.0, kernel_num=5, fix_sigma=None):\n",
    "    '''\n",
    "    计算源域数据和目标域数据的MMD距离\n",
    "    Params: \n",
    "\t    source: 源域数据（n * len(x))\n",
    "\t    target: 目标域数据（m * len(y))\n",
    "\t    kernel_mul: \n",
    "\t    kernel_num: 取不同高斯核的数量\n",
    "\t    fix_sigma: 不同高斯核的sigma值\n",
    "\tReturn:\n",
    "\t\tloss: MMD loss\n",
    "    '''\n",
    "    \n",
    "    batch_size = source.size()[0]#一般默认为源域和目标域的batchsize相同\n",
    "    kernels = guassian_kernel(source, target,\n",
    "        kernel_mul=kernel_mul, kernel_num=kernel_num, fix_sigma=fix_sigma)\n",
    "    #根据式（3）将核矩阵分成4部分\n",
    "    XX = kernels[:batch_size, :batch_size]\n",
    "    YY = kernels[batch_size:, batch_size:]\n",
    "    XY = kernels[:batch_size, batch_size:]\n",
    "    YX = kernels[batch_size:, :batch_size]\n",
    "    loss = torch.mean(XX + YY - XY -YX)\n",
    "    return loss.numpy() #因为一般都是n==m，所以L矩阵一般不加入计算"
   ]
  },
  {
   "cell_type": "code",
   "execution_count": 2,
   "metadata": {},
   "outputs": [],
   "source": [
    "path = 'F:\\\\graduate_student\\\\T2_GANpropeller\\\\test5\\\\0_database\\\\mixed_model\\\\'"
   ]
  },
  {
   "cell_type": "code",
   "execution_count": 5,
   "metadata": {},
   "outputs": [],
   "source": [
    "import random\n",
    "import matplotlib.pyplot as plt\n",
    "def easy_surface(foil_data,ax, path = ''):\n",
    "    # p = foil_data\n",
    "    foil_data = foil_data.reshape(-1,3)\n",
    "    x = foil_data[:,0]\n",
    "    y = foil_data[:,1]\n",
    "    z = foil_data[:,2]\n",
    "\n",
    "\n",
    "    # ax.set_xlim(0,1)\n",
    "    # ax.set_ylim(-0.5,0.5)\n",
    "    # ax.set_zlim(-0.5,0.5)\n",
    "\n",
    "    # ax.plot_surface(x,y,z,rstride = 1,cstride = 1, cmap= 'gist_yarg',alpha = 0.3)\n",
    "    ax.scatter3D(x,y,z,s=0.5,alpha = 0.1,c='b')\n",
    "    return ax\n",
    "\n",
    "def get_meshcloud(new_meshs,save_path,num  = 100):\n",
    "\n",
    "    posi =random.sample(range(1,new_meshs.shape[0]),num)\n",
    "    new_meshs = new_meshs[posi]\n",
    "    fig = plt.figure(figsize=(10, 7))\n",
    "    ax = plt.axes(projection=\"3d\")\n",
    "    ax.xaxis.set_visible(False)\n",
    "    ax.yaxis.set_visible(False)\n",
    "    ax.zaxis.set_visible(False)\n",
    "    for i in new_meshs:\n",
    "        ax = easy_surface(i,ax)\n",
    "\n",
    "    ax.view_init(elev=80, azim=0)\n",
    "    plt.axis('off')\n",
    "    plt.savefig(save_path)\n",
    "    plt.close()"
   ]
  },
  {
   "cell_type": "code",
   "execution_count": 17,
   "metadata": {},
   "outputs": [
    {
     "name": "stdout",
     "output_type": "stream",
     "text": [
      "(4200, 18, 58, 3)\n"
     ]
    }
   ],
   "source": [
    "\n",
    "column  = np.load(path + 'Column.npy')\n",
    "tangent = np.load(path + 'Tangent.npy')\n",
    "tapered = np.load(path + 'Tapered.npy')\n",
    "column = column[:,:,10:,:]\n",
    "tangent = tangent[:,:,10:,:]\n",
    "tapered = tapered[:,:,10:,:]\n",
    "a = column[700:900,:,:,:]\n",
    "b = tangent[700:900,:,:,:]\n",
    "c = tapered[700:900,:,:,:]\n",
    "\n",
    "real = np.concatenate((column,tangent,tapered,a,a,b,b,c,c),0)\n",
    "\n",
    "\n",
    "print(real.shape)\n",
    "# real = np.concatenate((tangent0,tangent0,tangent0),0)\n",
    "get_meshcloud(real,'test',200)"
   ]
  },
  {
   "cell_type": "code",
   "execution_count": 40,
   "metadata": {},
   "outputs": [
    {
     "name": "stdout",
     "output_type": "stream",
     "text": [
      "0.8528748138368991 0.14529380279604476\n",
      "1.0458522159877126 0.1698616658681942\n",
      "2.3574473258201714 0.2695328419169131\n"
     ]
    }
   ],
   "source": [
    "\n",
    "s1 = []\n",
    "s2 = []\n",
    "s3 = []\n",
    "s4 = []\n",
    "\n",
    "for i in range(10):\n",
    "    a = random.sample(range(1,1000),100)\n",
    "    d1 = column[a,:]\n",
    "    d2 = tangent[a,:]\n",
    "    d3 = tapered[a,:]\n",
    "\n",
    "    mmd1 = mmd_rbf(d1,d2)\n",
    "    mmd2 = mmd_rbf(d2,d3)\n",
    "    mmd3 = mmd_rbf(d1,d3)\n",
    "\n",
    "    s1.append(mmd1)\n",
    "    s2.append(mmd2)\n",
    "    s3.append(mmd3)\n",
    "\n",
    "s1 = np.array(s1)\n",
    "s2 = np.array(s2)\n",
    "s3 = np.array(s3)\n",
    "\n",
    "print(np.mean(s1),np.std(s1))\n",
    "print(np.mean(s2),np.std(s2))\n",
    "print(np.mean(s3),np.std(s3))"
   ]
  },
  {
   "cell_type": "code",
   "execution_count": 13,
   "metadata": {},
   "outputs": [
    {
     "name": "stdout",
     "output_type": "stream",
     "text": [
      "torch.Size([3000, 18, 68, 3]) torch.Size([3000, 18, 68, 3])\n",
      "198.5687547065149 127.11890959304182\n"
     ]
    }
   ],
   "source": [
    "import random\n",
    "real  =  torch.from_numpy(np.load('data_set/easy_real.npy'))\n",
    "\n",
    "fake_ffd = torch.from_numpy(np.load('data_set/easy_fpgan_three.npy'))\n",
    "upper_line = 2.2657\n",
    "print(real.shape,fake_ffd.shape)\n",
    "s_ffd = []\n",
    "s_self = []\n",
    "p = 200\n",
    "for i in range(20):\n",
    "   \n",
    "    a1 = random.sample(range(1,real.shape[0]),p)\n",
    "    a2 = random.sample(range(1,fake_ffd.shape[0]),p)\n",
    "    # a3 = random.sample(range(1,tangent.shape[0]),p)\n",
    "    \n",
    "    d1 = real[a1,:].reshape(p,-1)\n",
    "    d2 = fake_ffd[a2,:].reshape(p,-1)\n",
    "    # d3 = tangent[a3,:].reshape(p,-1)\n",
    "    \n",
    "    s_ffd.append(upper_line/mmd_rbf(d1,d2))\n",
    "    # s_self.append(mmd_rbf(d1,d3))\n",
    "\n",
    "s_ffd = np.array(s_ffd)\n",
    "# s_self = np.array(s_self)\n",
    "\n",
    "# print(np.mean(s_self),np.std(s_self))"
   ]
  },
  {
   "cell_type": "code",
   "execution_count": 79,
   "metadata": {},
   "outputs": [],
   "source": [
    "import random\n",
    "real  =  torch.from_numpy(np.load('data_set/easy_real.npy'))\n",
    "upper_line = 2.2657\n",
    "def get_mmd(real,fake_ffd,p=200,num=20):\n",
    "    s_ffd = []\n",
    "    \n",
    "    for i in range(num):\n",
    "    \n",
    "        a1 = random.sample(range(1,real.shape[0]),p)\n",
    "        a2 = random.sample(range(1,fake_ffd.shape[0]),p)\n",
    "        d1 = real[a1,:].reshape(p,-1)\n",
    "        d2 = fake_ffd[a2,:].reshape(p,-1)\n",
    "        # d3 = tangent[a3,:].reshape(p,-1)\n",
    "        \n",
    "        s_ffd.append(upper_line/mmd_rbf(d1,d2))\n",
    "    s_ffd = np.array(s_ffd)\n",
    "    return np.mean(s_ffd),np.std(s_ffd)"
   ]
  },
  {
   "cell_type": "code",
   "execution_count": 80,
   "metadata": {},
   "outputs": [
    {
     "name": "stdout",
     "output_type": "stream",
     "text": [
      "(2.022617576760678, 0.17593465440976275)\n",
      "(3.902312234943809, 0.12575833161185965)\n",
      "(5.130394036238759, 0.3421242479469372)\n",
      "(6.303164808063722, 0.21814429422113618)\n",
      "(10.933886336015641, 3.329764826944521)\n",
      "(12.244826520971586, 2.90070382458126)\n"
     ]
    }
   ],
   "source": [
    "name_list1 = ['base1','base2','base3','base5','base7','base9']\n",
    "name_path  = 'F:\\\\graduate_student\\\\T2_GANpropeller\\\\test5\\\\1_model\\\\result\\\\test_pic\\\\'\n",
    "import random\n",
    "real  =  torch.from_numpy(np.load('data_set/easy_real.npy'))\n",
    "for i in name_list1:\n",
    "    fake_ffd = torch.from_numpy(np.load(name_path + i + '.npy'))\n",
    "    print(get_mmd(real,fake_ffd,100,3))"
   ]
  },
  {
   "cell_type": "code",
   "execution_count": 82,
   "metadata": {},
   "outputs": [
    {
     "name": "stdout",
     "output_type": "stream",
     "text": [
      "[5.31233812 0.63313783]\n",
      "[5.13806604 0.58118746]\n",
      "[4.97511843 0.73060158]\n",
      "[4.91094024 0.79473847]\n"
     ]
    }
   ],
   "source": [
    "name_list1 = ['easy8','easy16','easy32','easy64']\n",
    "name_path  = 'F:\\\\graduate_student\\\\T2_GANpropeller\\\\test5\\\\1_model\\\\result\\\\test_pic\\\\'\n",
    "import random\n",
    "real  =  torch.from_numpy(np.load('data_set/easy_real.npy'))\n",
    "for i in name_list1:\n",
    "    fake_ffd = torch.from_numpy(np.load(name_path + i + '.npy'))\n",
    "    print(np.array([*get_mmd(real,fake_ffd,100,10)]))"
   ]
  },
  {
   "cell_type": "code",
   "execution_count": 49,
   "metadata": {},
   "outputs": [
    {
     "name": "stdout",
     "output_type": "stream",
     "text": [
      "[1.24732956 0.19859163]\n",
      "[1.19400771 0.12631823]\n",
      "[1.21930977 0.08748066]\n",
      "[1.33749348 0.17015989]\n"
     ]
    }
   ],
   "source": [
    "name_list1 = ['base332','base371','base531','base571']\n",
    "name_path  = 'F:\\\\graduate_student\\\\T2_GANpropeller\\\\test5\\\\2_experiments\\\\FFD_PCA\\\\ffd_vari_dim\\\\'\n",
    "\n",
    "for i in name_list1:\n",
    "    fake_ffd = torch.from_numpy(np.load(name_path + i + '.npy'))\n",
    "    print(np.array([*get_mmd(real,fake_ffd,100,10)])/3)"
   ]
  },
  {
   "cell_type": "code",
   "execution_count": 50,
   "metadata": {},
   "outputs": [
    {
     "name": "stdout",
     "output_type": "stream",
     "text": [
      "[0.66594176 0.08781105]\n",
      "[0.66852299 0.10217645]\n",
      "[0.86778923 0.085371  ]\n",
      "[1.03564413 0.09866828]\n",
      "[0.94233266 0.11818045]\n",
      "[0.92730218 0.07722494]\n"
     ]
    }
   ],
   "source": [
    "name_list1 = ['base1','base2','base3','base5','base7','base9']\n",
    "name_path  = 'F:\\\\graduate_student\\\\T2_GANpropeller\\\\test5\\\\2_experiments\\\\FFD_PCA\\\\ffd_vari_easy\\\\'\n",
    "\n",
    "for i in name_list1:\n",
    "    fake_ffd = torch.from_numpy(np.load(name_path + i + '.npy'))\n",
    "    print(np.array([*get_mmd(real,fake_ffd,100,10)])/10)"
   ]
  },
  {
   "cell_type": "code",
   "execution_count": 83,
   "metadata": {},
   "outputs": [],
   "source": [
    "import matplotlib.pyplot as plt\n",
    "\n",
    "y = [1.9797,3.6330,4.9859,6.0987,7.1561,7.4985]\n",
    "x = [1,2,3,5,7,9]\n",
    "std = [0.09433,0.2124,0.5231,0.6493,0.870,0.894]\n",
    "\n",
    "y1 = [0.6659,0.6685,0.8678,1.036,0.9434,0.9273]\n",
    "x1 = x\n",
    "std1 = [0.0547,0.0474,0.0631,0.0744,0.0535,0.0693]\n",
    "\n",
    "def draw_MMD(x,y,std,x1,y1,std1,x_str):\n",
    "    with plt.style.context(['science','no-latex']):\n",
    "        plt.figure(figsize=(20, 10))\n",
    "        \n",
    "        plt.errorbar(x,y,std,elinewidth=4)\n",
    "        plt.errorbar(x1,y1,std1,elinewidth=4)\n",
    "        plt.show()\n",
    "\n",
    "# draw_MMD(x,y,std,x1,y1,std1,'')"
   ]
  },
  {
   "attachments": {},
   "cell_type": "markdown",
   "metadata": {},
   "source": [
    "# 测试直线度"
   ]
  },
  {
   "cell_type": "code",
   "execution_count": 108,
   "metadata": {},
   "outputs": [],
   "source": [
    "def get_onestraight(points):\n",
    "    Sum_X=0.0\n",
    "    Sum_Y=0.0\n",
    "    Sum_Z=0.0\n",
    "    Sum_XZ=0.0\n",
    "    Sum_YZ=0.0\n",
    "    Sum_Z2=0.0\n",
    "    \n",
    "    xi = points[:,0]\n",
    "    yi = points[:,1]\n",
    "    zi = points[:,2]\n",
    "    Sum_X = np.sum(xi)\n",
    "    Sum_Y = np.sum(yi)\n",
    "    Sum_Z = np.sum(zi)\n",
    "    Sum_XZ = np.sum(xi*zi)\n",
    "    Sum_YZ = np.sum(yi*zi)\n",
    "    Sum_Z2 = np.sum(zi**2)\n",
    " \n",
    "    n = points.shape[0] # 点数\n",
    "    den = n*Sum_Z2 - Sum_Z * Sum_Z # 公式分母\n",
    "    k1 = (n*Sum_XZ - Sum_X * Sum_Z)/ den\n",
    "    b1 = (Sum_X - k1 * Sum_Z)/n\n",
    "    k2 = (n*Sum_YZ - Sum_Y * Sum_Z)/ den\n",
    "    b2 = (Sum_Y - k2 * Sum_Z)/n\n",
    "    \n",
    "    Q1 = np.sum((xi - k1*zi - b1)**2)\n",
    "    Q2 = np.sum((yi - k2*zi - b2)**2)\n",
    "\n",
    "    return Q1+Q2\n",
    "\n",
    "import random\n",
    "def get_allstraight(points,p = 100):\n",
    "    a1 = random.sample(range(1,points.shape[0]),p)\n",
    "    points = points[a1]\n",
    "    \n",
    "    straight = []\n",
    "    for i in points:\n",
    "\n",
    "        num_line = i.shape[0]\n",
    "\n",
    "        for j in range(num_line):\n",
    "\n",
    "            line = i[j]\n",
    "            tmp = get_onestraight(line)\n",
    "            straight.append(tmp)\n",
    "    # print(straight)\n",
    "    return np.mean(np.array(straight))"
   ]
  },
  {
   "cell_type": "code",
   "execution_count": 106,
   "metadata": {},
   "outputs": [
    {
     "name": "stdout",
     "output_type": "stream",
     "text": [
      "80.53980491425924 1.799880562511252e-16\n"
     ]
    }
   ],
   "source": [
    "\n",
    "path = 'F:\\\\graduate_student\\\\T2_GANpropeller\\\\test5\\\\0_database\\\\mixed_model\\\\easy_real.npy'\n",
    "\n",
    "real = np.load(path)\n",
    "test = real[0,:,2,:]\n",
    "\n",
    "\n",
    "a = get_onestraight(test)\n",
    "b = get_allstraight(real)\n",
    "print(a,b)"
   ]
  },
  {
   "cell_type": "code",
   "execution_count": 109,
   "metadata": {},
   "outputs": [
    {
     "name": "stdout",
     "output_type": "stream",
     "text": [
      "1765.0345030062135\n",
      "2018.5048421750375\n",
      "1794.7912573751616\n",
      "1701.2695969541583\n"
     ]
    }
   ],
   "source": [
    "name_list1 = ['base332','base371','base531','base571']\n",
    "name_path  = 'F:\\\\graduate_student\\\\T2_GANpropeller\\\\test5\\\\2_experiments\\\\FFD_PCA\\\\ffd_vari_dim\\\\'\n",
    "\n",
    "for i in name_list1:\n",
    "    fake_ffd = np.load(name_path + i + '.npy').reshape(-1,18,68,3)\n",
    "    print(get_allstraight(fake_ffd))"
   ]
  },
  {
   "cell_type": "code",
   "execution_count": 125,
   "metadata": {},
   "outputs": [
    {
     "name": "stdout",
     "output_type": "stream",
     "text": [
      "231.83107777382816\n",
      "287.6544062469509\n",
      "212.8753705192395\n",
      "225.87780645152975\n"
     ]
    }
   ],
   "source": [
    "name_list1 = ['easy8','easy16','easy32','easy64']\n",
    "name_path  = 'F:\\\\graduate_student\\\\T2_GANpropeller\\\\test5\\\\1_model\\\\result\\\\test_pic\\\\'\n",
    "for i in name_list1:\n",
    "    fake_ffd = np.load(name_path + i + '.npy').reshape(-1,18,68,3)\n",
    "    print(get_allstraight(fake_ffd))"
   ]
  },
  {
   "cell_type": "code",
   "execution_count": null,
   "metadata": {},
   "outputs": [],
   "source": []
  }
 ],
 "metadata": {
  "kernelspec": {
   "display_name": "CNN",
   "language": "python",
   "name": "python3"
  },
  "language_info": {
   "codemirror_mode": {
    "name": "ipython",
    "version": 3
   },
   "file_extension": ".py",
   "mimetype": "text/x-python",
   "name": "python",
   "nbconvert_exporter": "python",
   "pygments_lexer": "ipython3",
   "version": "3.9.16"
  },
  "orig_nbformat": 4,
  "vscode": {
   "interpreter": {
    "hash": "e4c931384c189ae75f8be27cf3a476a73e5601e0430a23822067a21f7d017973"
   }
  }
 },
 "nbformat": 4,
 "nbformat_minor": 2
}
